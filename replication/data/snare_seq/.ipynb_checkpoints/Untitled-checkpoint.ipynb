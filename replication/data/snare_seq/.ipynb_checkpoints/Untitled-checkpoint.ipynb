{
 "cells": [
  {
   "cell_type": "code",
   "execution_count": 1,
   "id": "8fe4fc26",
   "metadata": {},
   "outputs": [],
   "source": [
    "import numpy as np\n",
    "import pandas as pd\n",
    "import networkx as nx\n",
    "import scipy.io\n",
    "import anndata\n",
    "import scanpy as sc"
   ]
  },
  {
   "cell_type": "markdown",
   "id": "f32d2954",
   "metadata": {},
   "source": [
    "### scRNA-seq"
   ]
  },
  {
   "cell_type": "code",
   "execution_count": 2,
   "id": "5922856a",
   "metadata": {},
   "outputs": [
    {
     "name": "stderr",
     "output_type": "stream",
     "text": [
      "/tmp/ipykernel_1240878/3880592642.py:5: FutureWarning: X.dtype being converted to np.float32 from int64. In the next version of anndata (0.9) conversion will not be automatic. Pass dtype explicitly to avoid this warning. Pass `AnnData(X, dtype=X.dtype, ...)` to get the future behavour.\n",
      "  rna = anndata.AnnData(X=rna_matrix, obs=rna_obs, var=rna_var)\n"
     ]
    },
    {
     "data": {
      "text/plain": [
       "AnnData object with n_obs × n_vars = 10309 × 33160"
      ]
     },
     "execution_count": 2,
     "metadata": {},
     "output_type": "execute_result"
    }
   ],
   "source": [
    "rna_matrix = scipy.io.mmread(\"GSE126074_AdBrainCortex_SNAREseq_cDNA.counts.mtx.gz\").T.tocsr()\n",
    "rna_obs = pd.read_csv(\"GSE126074_AdBrainCortex_SNAREseq_cDNA.barcodes.tsv.gz\", header=None, index_col=0)\n",
    "rna_var = pd.read_csv(\"GSE126074_AdBrainCortex_SNAREseq_cDNA.genes.tsv.gz\", header=None, index_col=0)\n",
    "rna_obs.index.name, rna_var.index.name = \"cells\", \"genes\"\n",
    "rna = anndata.AnnData(X=rna_matrix, obs=rna_obs, var=rna_var)\n",
    "rna"
   ]
  },
  {
   "cell_type": "code",
   "execution_count": 3,
   "id": "477a5181",
   "metadata": {},
   "outputs": [],
   "source": [
    "rna.obs[\"domain\"] = \"scRNA-seq\"\n",
    "rna.obs[\"protocol\"] = \"SNARE-seq\"\n",
    "rna.obs[\"dataset\"] = \"Chen-2019-RNA\""
   ]
  },
  {
   "cell_type": "code",
   "execution_count": 4,
   "id": "991c374f",
   "metadata": {},
   "outputs": [],
   "source": [
    "rna.X = rna.X.toarray()"
   ]
  },
  {
   "cell_type": "code",
   "execution_count": 5,
   "id": "2b8cd071",
   "metadata": {},
   "outputs": [],
   "source": [
    "rna.write_h5ad('SNARE_mousebrain_RNA.h5ad')"
   ]
  },
  {
   "cell_type": "markdown",
   "id": "4d82d220",
   "metadata": {},
   "source": [
    "### scATAC-seq"
   ]
  },
  {
   "cell_type": "code",
   "execution_count": 6,
   "id": "51c8fdcb",
   "metadata": {},
   "outputs": [
    {
     "name": "stderr",
     "output_type": "stream",
     "text": [
      "/tmp/ipykernel_1240878/2652131317.py:5: FutureWarning: X.dtype being converted to np.float32 from int64. In the next version of anndata (0.9) conversion will not be automatic. Pass dtype explicitly to avoid this warning. Pass `AnnData(X, dtype=X.dtype, ...)` to get the future behavour.\n",
      "  atac = anndata.AnnData(X=atac_matrix, obs=atac_obs, var=atac_var)\n"
     ]
    },
    {
     "data": {
      "text/plain": [
       "AnnData object with n_obs × n_vars = 10309 × 244544"
      ]
     },
     "execution_count": 6,
     "metadata": {},
     "output_type": "execute_result"
    }
   ],
   "source": [
    "atac_matrix = scipy.io.mmread(\"GSE126074_AdBrainCortex_SNAREseq_chromatin.counts.mtx.gz\").T.tocsr()\n",
    "atac_obs = pd.read_csv(\"GSE126074_AdBrainCortex_SNAREseq_chromatin.barcodes.tsv.gz\", header=None, index_col=0)\n",
    "atac_var = pd.read_csv(\"GSE126074_AdBrainCortex_SNAREseq_chromatin.peaks.tsv.gz\", header=None, index_col=0)\n",
    "atac_obs.index.name, atac_var.index.name = \"cells\", \"peaks\"\n",
    "atac = anndata.AnnData(X=atac_matrix, obs=atac_obs, var=atac_var)\n",
    "atac"
   ]
  },
  {
   "cell_type": "code",
   "execution_count": 7,
   "id": "f9106951",
   "metadata": {},
   "outputs": [],
   "source": [
    "atac.obs[\"domain\"] = \"scATAC-seq\"\n",
    "atac.obs[\"protocol\"] = \"SNARE-seq\"\n",
    "atac.obs[\"dataset\"] = \"Chen-2019-ATAC\""
   ]
  },
  {
   "cell_type": "code",
   "execution_count": 10,
   "id": "edbc36f4",
   "metadata": {},
   "outputs": [
    {
     "data": {
      "text/plain": [
       "16.0"
      ]
     },
     "execution_count": 10,
     "metadata": {},
     "output_type": "execute_result"
    }
   ],
   "source": [
    "atac.X.max()"
   ]
  },
  {
   "cell_type": "code",
   "execution_count": 11,
   "id": "ce16a5c1",
   "metadata": {},
   "outputs": [],
   "source": [
    "atac.write_h5ad('SNARE_mousebrain_ATAC.h5ad')"
   ]
  },
  {
   "cell_type": "code",
   "execution_count": null,
   "id": "9de76eeb",
   "metadata": {},
   "outputs": [],
   "source": []
  },
  {
   "cell_type": "code",
   "execution_count": null,
   "id": "8ad10ab3",
   "metadata": {},
   "outputs": [],
   "source": []
  },
  {
   "cell_type": "code",
   "execution_count": null,
   "id": "5c25b22a",
   "metadata": {},
   "outputs": [],
   "source": []
  },
  {
   "cell_type": "code",
   "execution_count": null,
   "id": "95ee470b",
   "metadata": {},
   "outputs": [],
   "source": []
  }
 ],
 "metadata": {
  "kernelspec": {
   "display_name": "Python [conda env:multiome]",
   "language": "python",
   "name": "conda-env-multiome-py"
  },
  "language_info": {
   "codemirror_mode": {
    "name": "ipython",
    "version": 3
   },
   "file_extension": ".py",
   "mimetype": "text/x-python",
   "name": "python",
   "nbconvert_exporter": "python",
   "pygments_lexer": "ipython3",
   "version": "3.10.4"
  }
 },
 "nbformat": 4,
 "nbformat_minor": 5
}
