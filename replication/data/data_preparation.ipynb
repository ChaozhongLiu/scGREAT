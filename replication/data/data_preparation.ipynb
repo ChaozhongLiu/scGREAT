{
 "cells": [
  {
   "cell_type": "code",
   "execution_count": 1,
   "id": "e108298e",
   "metadata": {},
   "outputs": [
    {
     "name": "stderr",
     "output_type": "stream",
     "text": [
      "/mnt/atlas_local/chaozhong/home/miniconda3/envs/multiome/lib/python3.10/site-packages/libpysal/weights/util.py:23: UserWarning: geopandas not available. Some functionality will be disabled.\n",
      "  warn(\"geopandas not available. Some functionality will be disabled.\")\n"
     ]
    }
   ],
   "source": [
    "import os\n",
    "os.environ['OPENBLAS_NUM_THREADS'] = '20'\n",
    "import sys\n",
    "sys.path.append('../')\n",
    "\n",
    "import numpy as np\n",
    "import pandas as pd\n",
    "import scanpy as sc\n",
    "import anndata as ad\n",
    "import scipy as sp\n",
    "import matplotlib.pyplot as plt\n",
    "import libpysal as lps\n",
    "import random\n",
    "from matplotlib import rcParams\n",
    "import seaborn as sns\n",
    "import time\n",
    "sc.set_figure_params(\n",
    "    scanpy=True, dpi_save=600, vector_friendly=True, format=\"pdf\",\n",
    "    facecolor=(1.0, 1.0, 1.0, 0.0), transparent=False\n",
    ")\n",
    "rcParams[\"savefig.bbox\"] = \"tight\""
   ]
  },
  {
   "cell_type": "markdown",
   "id": "a01a37a8",
   "metadata": {},
   "source": [
    "### In this notebook, all related data are processed for the input of the package\n",
    "1. [10X PBMC dataset](#10X)  \n",
    "    a. [The whole dataset paeudo-bulk object](#10Xpb)  \n",
    "    b. [The whole dataset single-cell multiome object](#10Xsc)  \n",
    "    c. [CD4+ T cells paeudo-bulk object](#10Xcd4)  \n",
    "2. [SNARE-seq data](#snare)  \n",
    "    a. [The whole dataset paeudo-bulk object](#snarepb)  \n",
    "    b. [Cluster 2 pseudo-bulk object](#snare2)  \n",
    "    c. [The whole dataset single-cell object](#snaresc)\n",
    "3. [SHARE-seq data](#share)  \n",
    "    a. [The whole dataset paeudo-bulk object](#sharepb)  \n",
    "    b. [Cluster 7 pseudo-bulk object](#share7)  \n",
    "    c. [The whole dataset single-cell object](#sharesc)"
   ]
  },
  {
   "cell_type": "markdown",
   "id": "27e72580",
   "metadata": {},
   "source": [
    "### 10X PBMC dataset <a name=\"10X\"></a>"
   ]
  },
  {
   "cell_type": "markdown",
   "id": "d56963a3",
   "metadata": {},
   "source": [
    "#### The whole dataset paeudo-bulk object <a name=\"10Xpb\"></a>"
   ]
  },
  {
   "cell_type": "code",
   "execution_count": 2,
   "id": "4bc5be83",
   "metadata": {},
   "outputs": [],
   "source": [
    "import multiome.data_preparation as data_preparation\n",
    "\n",
    "anndat_mod1 = ad.read_h5ad('10XMultiome/PBMC_10X_GEX.h5ad')\n",
    "anndat_mod2 = ad.read_h5ad('10XMultiome/PBMC_10X_ATAC.peak.h5ad')\n",
    "\n",
    "anndat_mod1.X = anndat_mod1.layers['counts'].copy()\n",
    "rna_umap = pd.read_csv('10XMultiome/PBMC.rna.umap.csv').to_numpy()\n",
    "anndat_mod1.obsm['X_umap'] = rna_umap\n",
    "\n",
    "sc.pp.normalize_total(anndat_mod1)\n",
    "sc.pp.normalize_total(anndat_mod2)\n",
    "\n",
    "seurat_wnn = pd.read_csv('10XMultiome/seurat_wnn_graph.csv',header=None, index_col=0)\n",
    "nn_map = data_preparation.nn_map_Seurat(seurat_wnn, K = 20)"
   ]
  },
  {
   "cell_type": "code",
   "execution_count": 3,
   "id": "4ca65469",
   "metadata": {},
   "outputs": [],
   "source": [
    "anndat_mod1 = data_preparation.add_group_sparsity(anndat_mod1, group_by='seurat_annotations')\n",
    "anndat_mod2 = data_preparation.add_group_sparsity(anndat_mod2, group_by='seurat_annotations')"
   ]
  },
  {
   "cell_type": "code",
   "execution_count": 4,
   "id": "1258d8f9",
   "metadata": {},
   "outputs": [
    {
     "name": "stdout",
     "output_type": "stream",
     "text": [
      "Cluster annotation provided, will generate the pseudo-bulk within each cluster defined...\n"
     ]
    },
    {
     "name": "stderr",
     "output_type": "stream",
     "text": [
      "/mnt/atlas_local/chaozhong/home/miniconda3/envs/multiome/lib/python3.10/site-packages/scipy/stats/_stats_py.py:110: RuntimeWarning: The input array could not be properly checked for nan values. nan values will be ignored.\n",
      "  warnings.warn(\"The input array could not be properly \"\n"
     ]
    },
    {
     "name": "stdout",
     "output_type": "stream",
     "text": [
      "5000 pseudo-bulk generated\n"
     ]
    },
    {
     "name": "stderr",
     "output_type": "stream",
     "text": [
      "/mnt/atlas_local/chaozhong/data/thesis/fig2/../multiome/data_preparation.py:243: FutureWarning: X.dtype being converted to np.float32 from float64. In the next version of anndata (0.9) conversion will not be automatic. Pass dtype explicitly to avoid this warning. Pass `AnnData(X, dtype=X.dtype, ...)` to get the future behavour.\n",
      "  return ad.AnnData(\n",
      "/mnt/atlas_local/chaozhong/home/miniconda3/envs/multiome/lib/python3.10/site-packages/anndata/_core/anndata.py:121: ImplicitModificationWarning: Transforming to str index.\n",
      "  warnings.warn(\"Transforming to str index.\", ImplicitModificationWarning)\n",
      "/mnt/atlas_local/chaozhong/data/thesis/fig2/../multiome/data_preparation.py:247: FutureWarning: X.dtype being converted to np.float32 from float64. In the next version of anndata (0.9) conversion will not be automatic. Pass dtype explicitly to avoid this warning. Pass `AnnData(X, dtype=X.dtype, ...)` to get the future behavour.\n",
      "  ), ad.AnnData(\n"
     ]
    },
    {
     "name": "stdout",
     "output_type": "stream",
     "text": [
      "Finished in 39.62s\n"
     ]
    }
   ],
   "source": [
    "import time\n",
    "start = time.time()\n",
    "bulk_mod1, bulk_mod2 = data_preparation.PsedoBulk(anndat_mod1, anndat_mod2,\n",
    "                                                  group_name='seurat_annotations',\n",
    "                                                  nn_map=nn_map, N=5000, K=20)\n",
    "print('Finished in %.2fs'%(time.time()-start))"
   ]
  },
  {
   "cell_type": "code",
   "execution_count": 5,
   "id": "34c43c7b",
   "metadata": {},
   "outputs": [
    {
     "name": "stdout",
     "output_type": "stream",
     "text": [
      "---- scRNA-seq pre-processing -----\n",
      "Filter genes expressed in less than 10.0% cells...\n",
      "Do library size correction and log-transformation...\n",
      "Highly-variable genes not provided, will use scanpy.pp.highly_variable_genes defined HVGs.\n",
      "Perform dimension reduction with HVGs\n"
     ]
    },
    {
     "name": "stderr",
     "output_type": "stream",
     "text": [
      "/mnt/atlas_local/chaozhong/home/miniconda3/envs/multiome/lib/python3.10/site-packages/scanpy/preprocessing/_simple.py:843: UserWarning: Received a view of an AnnData. Making a copy.\n",
      "  view_to_actual(adata)\n"
     ]
    },
    {
     "name": "stdout",
     "output_type": "stream",
     "text": [
      "Preprocessing done!\n",
      "---- scATAC-seq pre-processing -----\n",
      "Filter peaks expressed in less than 5.0% cells\n",
      "Do library size correction, log-transformation, and scaling...\n",
      "Preprocessing done!\n"
     ]
    }
   ],
   "source": [
    "bulk_mod1 = data_preparation.RNA_preprocessing_in_one(bulk_mod1, HVGs=None,\n",
    "                                                      sparse_cutoff=0.1)\n",
    "bulk_mod2 = data_preparation.ATAC_preprocessing_in_one(bulk_mod2,\n",
    "                                                       sparse_cutoff=0.05)"
   ]
  },
  {
   "cell_type": "code",
   "execution_count": 6,
   "id": "669c022b",
   "metadata": {},
   "outputs": [
    {
     "name": "stdout",
     "output_type": "stream",
     "text": [
      "Remove nearby peaks if it lies on the gene body or promoter regions of other genes.\n",
      "Finished in 75.65s\n"
     ]
    }
   ],
   "source": [
    "# peaks nearby annotation\n",
    "import multiome.feature_pairing as feature_pairing\n",
    "\n",
    "start = time.time()\n",
    "#genes = anndat_rna.var_names[anndat_rna.var.highly_variable]\n",
    "genes = bulk_mod1.raw.var_names #np.intersect1d(genes, bulk_mod1.raw.var_names.to_numpy())\n",
    "peaks = bulk_mod2.var_names\n",
    "peaks_nearby = feature_pairing.peaks_within_distance(genes, peaks,\n",
    "                                                     upstream=100000,\n",
    "                                                     downstream=100000,\n",
    "                                                     id_type='Symbol',\n",
    "                                                     split_symbol=['-','-'],\n",
    "                                                     ref_gtf_fn='Homo_sapiens.GRCh38.104.GeneLoc.Tab.txt')\n",
    "print('Finished in %.2fs'%(time.time()-start))"
   ]
  },
  {
   "cell_type": "code",
   "execution_count": 7,
   "id": "de07d8a9",
   "metadata": {},
   "outputs": [],
   "source": [
    "peaks_nearby.to_csv('10XMultiome/10XPBMC.peaks_nearby.allgene.csv')"
   ]
  },
  {
   "cell_type": "code",
   "execution_count": 6,
   "id": "f6046ba0",
   "metadata": {},
   "outputs": [
    {
     "name": "stdout",
     "output_type": "stream",
     "text": [
      "AnnData object genertated with log-transformed data as X.\n"
     ]
    }
   ],
   "source": [
    "peaks_nearby = pd.read_csv('10XMultiome/10XPBMC.peaks_nearby.allgene.csv',index_col=0)\n",
    "anndat_multiome = data_preparation.multiome_data(bulk_mod1, bulk_mod2, peaks_nearby)"
   ]
  },
  {
   "cell_type": "code",
   "execution_count": 7,
   "id": "c4920a03",
   "metadata": {},
   "outputs": [],
   "source": [
    "anndat_multiome.write_h5ad('10XMultiome/10XPBMC.all.pseudo.h5ad')"
   ]
  },
  {
   "cell_type": "markdown",
   "id": "621bff3e",
   "metadata": {},
   "source": [
    "#### The whole dataset single-cell multiome object <a name=\"10Xsc\"></a>"
   ]
  },
  {
   "cell_type": "code",
   "execution_count": 8,
   "id": "b6788817",
   "metadata": {},
   "outputs": [],
   "source": [
    "import multiome.data_preparation as data_preparation\n",
    "\n",
    "anndat_mod1 = ad.read_h5ad('10XMultiome/PBMC_10X_GEX.h5ad')\n",
    "anndat_mod2 = ad.read_h5ad('10XMultiome/PBMC_10X_ATAC.peak.h5ad')\n",
    "\n",
    "anndat_mod1.X = anndat_mod1.layers['counts'].copy()\n",
    "rna_umap = pd.read_csv('10XMultiome/PBMC.rna.umap.csv').to_numpy()\n",
    "anndat_mod1.obsm['X_umap'] = rna_umap\n",
    "\n",
    "sc.pp.normalize_total(anndat_mod1)\n",
    "sc.pp.normalize_total(anndat_mod2)\n",
    "\n",
    "seurat_wnn = pd.read_csv('10XMultiome/seurat_wnn_graph.csv',header=None, index_col=0)\n",
    "nn_map = data_preparation.nn_map_Seurat(seurat_wnn, K = 20)"
   ]
  },
  {
   "cell_type": "code",
   "execution_count": 9,
   "id": "37874711",
   "metadata": {},
   "outputs": [],
   "source": [
    "anndat_mod1 = data_preparation.add_group_sparsity(anndat_mod1, group_by='seurat_annotations')\n",
    "anndat_mod2 = data_preparation.add_group_sparsity(anndat_mod2, group_by='seurat_annotations')"
   ]
  },
  {
   "cell_type": "code",
   "execution_count": 10,
   "id": "149a0de2",
   "metadata": {},
   "outputs": [
    {
     "name": "stdout",
     "output_type": "stream",
     "text": [
      "---- scRNA-seq pre-processing -----\n",
      "Filter genes expressed in less than 0.0% cells...\n",
      "Do library size correction and log-transformation...\n",
      "Highly-variable genes not provided, will use scanpy.pp.highly_variable_genes defined HVGs.\n",
      "Perform dimension reduction with HVGs\n"
     ]
    },
    {
     "name": "stderr",
     "output_type": "stream",
     "text": [
      "/mnt/atlas_local/chaozhong/home/miniconda3/envs/multiome/lib/python3.10/site-packages/scanpy/preprocessing/_simple.py:843: UserWarning: Received a view of an AnnData. Making a copy.\n",
      "  view_to_actual(adata)\n"
     ]
    },
    {
     "name": "stdout",
     "output_type": "stream",
     "text": [
      "Preprocessing done!\n",
      "---- scATAC-seq pre-processing -----\n",
      "Filter peaks expressed in less than 0.0% cells\n",
      "Do library size correction, log-transformation, and scaling...\n",
      "Preprocessing done!\n"
     ]
    }
   ],
   "source": [
    "# to keep consistant with pseudo-bulk features, we won't do sparsity filtering here\n",
    "anndat_mod1 = data_preparation.RNA_preprocessing_in_one(anndat_mod1, HVGs=None,\n",
    "                                                        sparse_cutoff=0.0)\n",
    "anndat_mod2 = data_preparation.ATAC_preprocessing_in_one(anndat_mod2,\n",
    "                                                         sparse_cutoff=0.0)"
   ]
  },
  {
   "cell_type": "code",
   "execution_count": 11,
   "id": "cce13e7a",
   "metadata": {},
   "outputs": [
    {
     "name": "stdout",
     "output_type": "stream",
     "text": [
      "AnnData object genertated with log-transformed data as X.\n"
     ]
    }
   ],
   "source": [
    "peaks_nearby = pd.read_csv('10XMultiome/10XPBMC.peaks_nearby.allgene.csv', index_col=0)\n",
    "anndat_multiome = data_preparation.multiome_data(anndat_mod1, anndat_mod2, peaks_nearby)"
   ]
  },
  {
   "cell_type": "code",
   "execution_count": 12,
   "id": "5b7714df",
   "metadata": {},
   "outputs": [],
   "source": [
    "anndat_multiome.write_h5ad('10XMultiome/10XPBMC.all.sc.h5ad')"
   ]
  },
  {
   "cell_type": "code",
   "execution_count": null,
   "id": "1d2f7be4",
   "metadata": {},
   "outputs": [],
   "source": []
  },
  {
   "cell_type": "markdown",
   "id": "6e88a3cd",
   "metadata": {},
   "source": [
    "#### CD4+ T cells paeudo-bulk object <a name=\"10Xcd4\"></a>"
   ]
  },
  {
   "cell_type": "code",
   "execution_count": 2,
   "id": "c64778de",
   "metadata": {},
   "outputs": [],
   "source": [
    "import multiome.data_preparation as data_preparation\n",
    "\n",
    "anndat_mod1 = ad.read_h5ad('10XMultiome/PBMC_10X_GEX.h5ad')\n",
    "anndat_mod2 = ad.read_h5ad('10XMultiome/PBMC_10X_ATAC.peak.h5ad')\n",
    "\n",
    "anndat_mod1.X = anndat_mod1.layers['counts'].copy()\n",
    "rna_umap = pd.read_csv('10XMultiome/PBMC.rna.umap.csv').to_numpy()\n",
    "anndat_mod1.obsm['X_umap'] = rna_umap\n",
    "\n",
    "sc.pp.normalize_total(anndat_mod1)\n",
    "sc.pp.normalize_total(anndat_mod2)\n",
    "\n",
    "seurat_wnn = pd.read_csv('10XMultiome/seurat_wnn_graph.csv',header=None, index_col=0)\n",
    "nn_map = data_preparation.nn_map_Seurat(seurat_wnn, K = 20)\n",
    "\n",
    "anndat_mod1, anndat_mod2, nn_map = data_preparation.subset(anndat_mod1, anndat_mod2, nn_map,\n",
    "                                                           by='seurat_annotations',\n",
    "                                                           #groups = ['CD14 Mono'])\n",
    "                                                           groups = ['CD4 Naive','CD4 TCM','CD4 TEM'])"
   ]
  },
  {
   "cell_type": "code",
   "execution_count": 3,
   "id": "fd7e8fab",
   "metadata": {},
   "outputs": [],
   "source": [
    "anndat_mod1 = data_preparation.add_group_sparsity(anndat_mod1, group_by='seurat_annotations')\n",
    "anndat_mod2 = data_preparation.add_group_sparsity(anndat_mod2, group_by='seurat_annotations')"
   ]
  },
  {
   "cell_type": "code",
   "execution_count": 4,
   "id": "a75907f4",
   "metadata": {},
   "outputs": [
    {
     "name": "stdout",
     "output_type": "stream",
     "text": [
      "No cluster annotation provided, will generate the pseudo-bulk by KNN...\n",
      "2000 pseudo-bulk generated\n"
     ]
    },
    {
     "name": "stderr",
     "output_type": "stream",
     "text": [
      "/mnt/atlas_local/chaozhong/data/thesis/fig2/../multiome/data_preparation.py:243: FutureWarning: X.dtype being converted to np.float32 from float64. In the next version of anndata (0.9) conversion will not be automatic. Pass dtype explicitly to avoid this warning. Pass `AnnData(X, dtype=X.dtype, ...)` to get the future behavour.\n",
      "  return ad.AnnData(\n",
      "/mnt/atlas_local/chaozhong/data/thesis/fig2/../multiome/data_preparation.py:247: FutureWarning: X.dtype being converted to np.float32 from float64. In the next version of anndata (0.9) conversion will not be automatic. Pass dtype explicitly to avoid this warning. Pass `AnnData(X, dtype=X.dtype, ...)` to get the future behavour.\n",
      "  ), ad.AnnData(\n"
     ]
    }
   ],
   "source": [
    "bulk_mod1, bulk_mod2 = data_preparation.PsedoBulk(anndat_mod1, anndat_mod2,nn_map,\n",
    "                                                  N=2000, K=20)"
   ]
  },
  {
   "cell_type": "code",
   "execution_count": 5,
   "id": "9536de6a",
   "metadata": {},
   "outputs": [
    {
     "name": "stdout",
     "output_type": "stream",
     "text": [
      "---- scRNA-seq pre-processing -----\n",
      "Filter genes expressed in less than 10.0% cells...\n",
      "Do library size correction and log-transformation...\n",
      "Highly-variable genes not provided, will use scanpy.pp.highly_variable_genes defined HVGs.\n",
      "Perform dimension reduction with HVGs\n"
     ]
    },
    {
     "name": "stderr",
     "output_type": "stream",
     "text": [
      "/mnt/atlas_local/chaozhong/home/miniconda3/envs/multiome/lib/python3.10/site-packages/scanpy/preprocessing/_simple.py:843: UserWarning: Received a view of an AnnData. Making a copy.\n",
      "  view_to_actual(adata)\n"
     ]
    },
    {
     "name": "stdout",
     "output_type": "stream",
     "text": [
      "Preprocessing done!\n",
      "---- scATAC-seq pre-processing -----\n",
      "Filter peaks expressed in less than 5.0% cells\n",
      "Do library size correction, log-transformation, and scaling...\n",
      "Preprocessing done!\n"
     ]
    }
   ],
   "source": [
    "bulk_mod1 = data_preparation.RNA_preprocessing_in_one(bulk_mod1, HVGs=None,\n",
    "                                                      sparse_cutoff=0.1)\n",
    "bulk_mod2 = data_preparation.ATAC_preprocessing_in_one(bulk_mod2,\n",
    "                                                       sparse_cutoff=0.05)"
   ]
  },
  {
   "cell_type": "code",
   "execution_count": 6,
   "id": "7ee0edbe",
   "metadata": {},
   "outputs": [],
   "source": [
    "genes = bulk_mod1.raw.var_names #np.intersect1d(genes, bulk_mod1.raw.var_names.to_numpy())\n",
    "peaks = bulk_mod2.var_names\n",
    "peaks_nearby = pd.read_csv('10XMultiome/10XPBMC.peaks_nearby.allgene.csv', index_col=0)\n",
    "peaks_nearby = peaks_nearby.loc[peaks_nearby['genes'].isin(genes),:]\n",
    "peaks_nearby = peaks_nearby.loc[peaks_nearby['peaks'].isin(peaks),:]\n",
    "\n",
    "peaks_nearby.to_csv('10XMultiome/10XPBMC.peaks_nearby.CD4T.csv', index=False)\n",
    "#peaks_nearby.to_csv('data/10XPBMC.peaks_nearby.CD14.csv', index=False)"
   ]
  },
  {
   "cell_type": "code",
   "execution_count": 6,
   "id": "6e067ce3",
   "metadata": {},
   "outputs": [
    {
     "name": "stdout",
     "output_type": "stream",
     "text": [
      "AnnData object genertated with log-transformed data as X.\n"
     ]
    }
   ],
   "source": [
    "peaks_nearby = pd.read_csv('10XMultiome/10XPBMC.peaks_nearby.CD4T.csv')\n",
    "#peaks_nearby = pd.read_csv('data/10XPBMC.peaks_nearby.CD14.csv')\n",
    "anndat_multiome = data_preparation.multiome_data(bulk_mod1, bulk_mod2, peaks_nearby)"
   ]
  },
  {
   "cell_type": "code",
   "execution_count": 7,
   "id": "c778c782",
   "metadata": {},
   "outputs": [],
   "source": [
    "anndat_multiome.write_h5ad('10XMultiome/10XPBMC.CD4T.pseudo.h5ad')\n",
    "#anndat_multiome.write_h5ad('data/10XPBMC.CD14.pseudo.h5ad')"
   ]
  },
  {
   "cell_type": "code",
   "execution_count": null,
   "id": "ec34415d",
   "metadata": {},
   "outputs": [],
   "source": []
  },
  {
   "cell_type": "markdown",
   "id": "2fab509f",
   "metadata": {},
   "source": [
    "### SNARE-seq data <a name=\"snare\"></a>"
   ]
  },
  {
   "cell_type": "markdown",
   "id": "60f17904",
   "metadata": {},
   "source": [
    "#### The whole dataset paeudo-bulk object <a name=\"snarepb\"></a>"
   ]
  },
  {
   "cell_type": "code",
   "execution_count": 2,
   "id": "6c82176b",
   "metadata": {},
   "outputs": [],
   "source": [
    "anndat_mod1 = ad.read_h5ad('snare_seq/SNARE_mousebrain_RNA.h5ad')\n",
    "anndat_mod2 = ad.read_h5ad('snare_seq/SNARE_mousebrain_ATAC.h5ad')\n",
    "\n",
    "sc.pp.normalize_total(anndat_mod1)\n",
    "sc.pp.normalize_total(anndat_mod2)"
   ]
  },
  {
   "cell_type": "code",
   "execution_count": 3,
   "id": "1b016346",
   "metadata": {},
   "outputs": [
    {
     "data": {
      "image/png": "[encoded data removed]",
      "text/plain": [
       "<Figure size 320x320 with 1 Axes>"
      ]
     },
     "metadata": {
      "image/png": {
       "height": 301,
       "width": 339
      }
     },
     "output_type": "display_data"
    }
   ],
   "source": [
    "sc.pl.umap(anndat_mod1,color='leiden')\n"
   ]
  },
  {
   "cell_type": "code",
   "execution_count": 4,
   "id": "9fd1bd5a",
   "metadata": {},
   "outputs": [],
   "source": [
    "import multiome.data_preparation as dp\n",
    "nn_map = dp.nn_map_scanpy(anndat_mod1, K=25) #K should be exactly the same as n_neighbors in sc.pp.neighbors"
   ]
  },
  {
   "cell_type": "code",
   "execution_count": 5,
   "id": "65516ac0",
   "metadata": {},
   "outputs": [],
   "source": [
    "anndat_mod1 = dp.add_group_sparsity(anndat_mod1)\n",
    "anndat_mod2 = dp.add_group_sparsity(anndat_mod2)"
   ]
  },
  {
   "cell_type": "code",
   "execution_count": 6,
   "id": "dae5eda3",
   "metadata": {},
   "outputs": [
    {
     "name": "stdout",
     "output_type": "stream",
     "text": [
      "Cluster annotation provided, will generate the pseudo-bulk within each cluster defined...\n"
     ]
    },
    {
     "name": "stderr",
     "output_type": "stream",
     "text": [
      "/mnt/atlas_local/chaozhong/home/miniconda3/envs/multiome/lib/python3.10/site-packages/scipy/stats/_stats_py.py:110: RuntimeWarning: The input array could not be properly checked for nan values. nan values will be ignored.\n",
      "  warnings.warn(\"The input array could not be properly \"\n"
     ]
    },
    {
     "name": "stdout",
     "output_type": "stream",
     "text": [
      "5000 pseudo-bulk generated\n"
     ]
    },
    {
     "name": "stderr",
     "output_type": "stream",
     "text": [
      "/mnt/atlas_local/chaozhong/data/thesis/fig2/../multiome/data_preparation.py:304: FutureWarning: X.dtype being converted to np.float32 from float64. In the next version of anndata (0.9) conversion will not be automatic. Pass dtype explicitly to avoid this warning. Pass `AnnData(X, dtype=X.dtype, ...)` to get the future behavour.\n",
      "  return ad.AnnData(\n",
      "/mnt/atlas_local/chaozhong/home/miniconda3/envs/multiome/lib/python3.10/site-packages/anndata/_core/anndata.py:121: ImplicitModificationWarning: Transforming to str index.\n",
      "  warnings.warn(\"Transforming to str index.\", ImplicitModificationWarning)\n",
      "/mnt/atlas_local/chaozhong/data/thesis/fig2/../multiome/data_preparation.py:308: FutureWarning: X.dtype being converted to np.float32 from float64. In the next version of anndata (0.9) conversion will not be automatic. Pass dtype explicitly to avoid this warning. Pass `AnnData(X, dtype=X.dtype, ...)` to get the future behavour.\n",
      "  ), ad.AnnData(\n"
     ]
    },
    {
     "name": "stdout",
     "output_type": "stream",
     "text": [
      "Finished in 33.93s\n"
     ]
    }
   ],
   "source": [
    "import time\n",
    "start = time.time()\n",
    "bulk_mod1, bulk_mod2 = dp.PsedoBulk(anndat_mod1, anndat_mod2,\n",
    "                                    group_name='leiden',\n",
    "                                    nn_map=nn_map, N=5000, K=25)\n",
    "print('Finished in %.2fs'%(time.time()-start))"
   ]
  },
  {
   "cell_type": "code",
   "execution_count": 7,
   "id": "5564630b",
   "metadata": {},
   "outputs": [
    {
     "name": "stdout",
     "output_type": "stream",
     "text": [
      "---- scRNA-seq pre-processing -----\n",
      "Filter genes expressed in less than 10.0% cells...\n",
      "Do library size correction and log-transformation...\n",
      "Highly-variable genes not provided, will use scanpy.pp.highly_variable_genes defined HVGs.\n",
      "Perform dimension reduction with HVGs\n"
     ]
    },
    {
     "name": "stderr",
     "output_type": "stream",
     "text": [
      "/mnt/atlas_local/chaozhong/home/miniconda3/envs/multiome/lib/python3.10/site-packages/scanpy/preprocessing/_simple.py:843: UserWarning: Received a view of an AnnData. Making a copy.\n",
      "  view_to_actual(adata)\n"
     ]
    },
    {
     "name": "stdout",
     "output_type": "stream",
     "text": [
      "Preprocessing done!\n",
      "---- scATAC-seq pre-processing -----\n",
      "Filter peaks expressed in less than 5.0% cells\n",
      "Do library size correction, log-transformation, and scaling...\n",
      "Preprocessing done!\n"
     ]
    }
   ],
   "source": [
    "bulk_mod1 = dp.RNA_preprocessing_in_one(bulk_mod1, HVGs=None,\n",
    "                                        sparse_cutoff=0.1)\n",
    "bulk_mod2 = dp.ATAC_preprocessing_in_one(bulk_mod2,\n",
    "                                         sparse_cutoff=0.05)"
   ]
  },
  {
   "cell_type": "code",
   "execution_count": 8,
   "id": "dfe0f712",
   "metadata": {},
   "outputs": [
    {
     "name": "stdout",
     "output_type": "stream",
     "text": [
      "Remove nearby peaks if it lies on the gene body or promoter regions of other genes.\n",
      "Finished in 108.21s\n"
     ]
    }
   ],
   "source": [
    "# peaks nearby annotation\n",
    "import multiome.feature_pairing as feature_pairing\n",
    "start = time.time()\n",
    "#genes = anndat_rna.var_names[anndat_rna.var.highly_variable]\n",
    "genes = bulk_mod1.raw.var_names #np.intersect1d(genes, bulk_mod1.raw.var_names.to_numpy())\n",
    "peaks = bulk_mod2.var_names\n",
    "peaks_nearby = feature_pairing.peaks_within_distance(genes, peaks,\n",
    "                                                     upstream=100000,\n",
    "                                                     downstream=100000,\n",
    "                                                     id_type='Symbol',\n",
    "                                                     split_symbol=[':','-'],\n",
    "                                                     ref_gtf_fn='Mus_musculus.GRCm38.100.GeneLoc.Tab.txt')\n",
    "print('Finished in %.2fs'%(time.time()-start))"
   ]
  },
  {
   "cell_type": "code",
   "execution_count": 9,
   "id": "943c23da",
   "metadata": {},
   "outputs": [],
   "source": [
    "peaks_nearby.to_csv('snare_seq/SNARE_mousebrain.peaks_nearby.all.csv')"
   ]
  },
  {
   "cell_type": "code",
   "execution_count": 10,
   "id": "718da9b4",
   "metadata": {},
   "outputs": [
    {
     "name": "stdout",
     "output_type": "stream",
     "text": [
      "AnnData object genertated with log-transformed data as X.\n"
     ]
    }
   ],
   "source": [
    "peaks_nearby = pd.read_csv('snare_seq/SNARE_mousebrain.peaks_nearby.all.csv',index_col=0)\n",
    "anndat_multiome = dp.multiome_data(bulk_mod1, bulk_mod2, peaks_nearby)"
   ]
  },
  {
   "cell_type": "code",
   "execution_count": 11,
   "id": "2f584cba",
   "metadata": {},
   "outputs": [],
   "source": [
    "anndat_multiome.write_h5ad('snare_seq/SNARE_mousebrain.all.pseudo.h5ad')"
   ]
  },
  {
   "cell_type": "code",
   "execution_count": null,
   "id": "fc904da3",
   "metadata": {},
   "outputs": [],
   "source": []
  },
  {
   "cell_type": "markdown",
   "id": "b2a353ed",
   "metadata": {},
   "source": [
    "#### Cluster 2 pseudo-bulk object <a name=\"snare2\"></a>"
   ]
  },
  {
   "cell_type": "code",
   "execution_count": 2,
   "id": "60a987d4",
   "metadata": {},
   "outputs": [],
   "source": [
    "import multiome.data_preparation as dp\n",
    "\n",
    "anndat_mod1 = ad.read_h5ad('snare_seq/SNARE_mousebrain_RNA.h5ad')\n",
    "anndat_mod2 = ad.read_h5ad('snare_seq/SNARE_mousebrain_ATAC.h5ad')\n",
    "\n",
    "sc.pp.normalize_total(anndat_mod1)\n",
    "sc.pp.normalize_total(anndat_mod2)\n",
    "\n",
    "import multiome.data_preparation as dp\n",
    "nn_map = dp.nn_map_scanpy(anndat_mod1, K=25)\n",
    "\n",
    "anndat_mod1, anndat_mod2, nn_map = dp.subset(anndat_mod1, anndat_mod2,\n",
    "                                             nn_map, by='leiden',\n",
    "                                             groups = ['2'])"
   ]
  },
  {
   "cell_type": "code",
   "execution_count": 3,
   "id": "78f82359",
   "metadata": {},
   "outputs": [
    {
     "name": "stderr",
     "output_type": "stream",
     "text": [
      "/mnt/atlas_local/chaozhong/data/thesis/fig2/../multiome/data_preparation.py:180: ImplicitModificationWarning: Trying to modify attribute `.var` of view, initializing view as actual.\n",
      "  anndat.var['Frac.all'] = non_zero_pd['sparsity'].to_numpy()\n",
      "/mnt/atlas_local/chaozhong/data/thesis/fig2/../multiome/data_preparation.py:180: ImplicitModificationWarning: Trying to modify attribute `.var` of view, initializing view as actual.\n",
      "  anndat.var['Frac.all'] = non_zero_pd['sparsity'].to_numpy()\n"
     ]
    }
   ],
   "source": [
    "anndat_mod1 = dp.add_group_sparsity(anndat_mod1)\n",
    "anndat_mod2 = dp.add_group_sparsity(anndat_mod2)"
   ]
  },
  {
   "cell_type": "code",
   "execution_count": 4,
   "id": "c19eb801",
   "metadata": {},
   "outputs": [
    {
     "name": "stdout",
     "output_type": "stream",
     "text": [
      "No cluster annotation provided, will generate the pseudo-bulk by KNN...\n",
      "1412 pseudo-bulk generated\n"
     ]
    },
    {
     "name": "stderr",
     "output_type": "stream",
     "text": [
      "/mnt/atlas_local/chaozhong/data/thesis/fig2/../multiome/data_preparation.py:304: FutureWarning: X.dtype being converted to np.float32 from float64. In the next version of anndata (0.9) conversion will not be automatic. Pass dtype explicitly to avoid this warning. Pass `AnnData(X, dtype=X.dtype, ...)` to get the future behavour.\n",
      "  return ad.AnnData(\n",
      "/mnt/atlas_local/chaozhong/data/thesis/fig2/../multiome/data_preparation.py:308: FutureWarning: X.dtype being converted to np.float32 from float64. In the next version of anndata (0.9) conversion will not be automatic. Pass dtype explicitly to avoid this warning. Pass `AnnData(X, dtype=X.dtype, ...)` to get the future behavour.\n",
      "  ), ad.AnnData(\n"
     ]
    },
    {
     "name": "stdout",
     "output_type": "stream",
     "text": [
      "Finished in 7.31s\n"
     ]
    }
   ],
   "source": [
    "import time\n",
    "start = time.time()\n",
    "bulk_mod1, bulk_mod2 = dp.PsedoBulk(anndat_mod1, anndat_mod2,\n",
    "                                    #group_name='leiden',\n",
    "                                    nn_map=nn_map, N=2000, K=25)\n",
    "print('Finished in %.2fs'%(time.time()-start))"
   ]
  },
  {
   "cell_type": "code",
   "execution_count": 5,
   "id": "fe411000",
   "metadata": {},
   "outputs": [
    {
     "name": "stdout",
     "output_type": "stream",
     "text": [
      "---- scRNA-seq pre-processing -----\n",
      "Filter genes expressed in less than 10.0% cells...\n",
      "Do library size correction and log-transformation...\n",
      "Highly-variable genes not provided, will use scanpy.pp.highly_variable_genes defined HVGs.\n",
      "Perform dimension reduction with HVGs\n"
     ]
    },
    {
     "name": "stderr",
     "output_type": "stream",
     "text": [
      "/mnt/atlas_local/chaozhong/home/miniconda3/envs/multiome/lib/python3.10/site-packages/scanpy/preprocessing/_simple.py:843: UserWarning: Received a view of an AnnData. Making a copy.\n",
      "  view_to_actual(adata)\n"
     ]
    },
    {
     "name": "stdout",
     "output_type": "stream",
     "text": [
      "Preprocessing done!\n",
      "---- scATAC-seq pre-processing -----\n",
      "Filter peaks expressed in less than 5.0% cells\n",
      "Do library size correction, log-transformation, and scaling...\n",
      "Preprocessing done!\n"
     ]
    }
   ],
   "source": [
    "bulk_mod1 = dp.RNA_preprocessing_in_one(bulk_mod1, HVGs=None,\n",
    "                                        sparse_cutoff=0.1)\n",
    "bulk_mod2 = dp.ATAC_preprocessing_in_one(bulk_mod2,\n",
    "                                         sparse_cutoff=0.05)"
   ]
  },
  {
   "cell_type": "code",
   "execution_count": 6,
   "id": "dd87c1f3",
   "metadata": {},
   "outputs": [],
   "source": [
    "genes = bulk_mod1.raw.var_names #np.intersect1d(genes, bulk_mod1.raw.var_names.to_numpy())\n",
    "peaks = bulk_mod2.var_names\n",
    "peaks_nearby = pd.read_csv('snare_seq/SNARE_mousebrain.peaks_nearby.all.csv', index_col=0)\n",
    "peaks_nearby = peaks_nearby.loc[peaks_nearby['genes'].isin(genes),:]\n",
    "peaks_nearby = peaks_nearby.loc[peaks_nearby['peaks'].isin(peaks),:]\n",
    "\n",
    "peaks_nearby.to_csv('snare_seq/SNARE_mousebrain.peaks_nearby.2.csv', index=False)\n"
   ]
  },
  {
   "cell_type": "code",
   "execution_count": 7,
   "id": "f3b5fe2b",
   "metadata": {},
   "outputs": [
    {
     "name": "stdout",
     "output_type": "stream",
     "text": [
      "AnnData object genertated with log-transformed data as X.\n"
     ]
    }
   ],
   "source": [
    "peaks_nearby = pd.read_csv('snare_seq/SNARE_mousebrain.peaks_nearby.2.csv')\n",
    "anndat_multiome = dp.multiome_data(bulk_mod1, bulk_mod2, peaks_nearby)"
   ]
  },
  {
   "cell_type": "code",
   "execution_count": 8,
   "id": "329cf2f9",
   "metadata": {},
   "outputs": [],
   "source": [
    "anndat_multiome.write_h5ad('snare_seq/SNARE_mousebrain.2.pseudo.h5ad')"
   ]
  },
  {
   "cell_type": "code",
   "execution_count": null,
   "id": "4d68524c",
   "metadata": {},
   "outputs": [],
   "source": []
  },
  {
   "cell_type": "markdown",
   "id": "5d9ea0c1",
   "metadata": {},
   "source": [
    "#### The whole dataset single-cell object <a name=\"snaresc\"></a>"
   ]
  },
  {
   "cell_type": "code",
   "execution_count": 2,
   "id": "721259d3",
   "metadata": {},
   "outputs": [],
   "source": [
    "anndat_mod1 = ad.read_h5ad('snare_seq/SNARE_mousebrain_RNA.h5ad')\n",
    "anndat_mod2 = ad.read_h5ad('snare_seq/SNARE_mousebrain_ATAC.h5ad')\n",
    "\n",
    "sc.pp.normalize_total(anndat_mod1)\n",
    "sc.pp.normalize_total(anndat_mod2)"
   ]
  },
  {
   "cell_type": "code",
   "execution_count": 3,
   "id": "fac4fcfb",
   "metadata": {},
   "outputs": [],
   "source": [
    "import multiome.data_preparation as dp\n",
    "anndat_mod1 = dp.add_group_sparsity(anndat_mod1)\n",
    "anndat_mod2 = dp.add_group_sparsity(anndat_mod2)"
   ]
  },
  {
   "cell_type": "code",
   "execution_count": 4,
   "id": "7b84ccb3",
   "metadata": {},
   "outputs": [
    {
     "name": "stdout",
     "output_type": "stream",
     "text": [
      "---- scRNA-seq pre-processing -----\n",
      "Filter genes expressed in less than 0.0% cells...\n",
      "Do library size correction and log-transformation...\n",
      "WARNING: adata.X seems to be already log-transformed.\n",
      "Highly-variable genes not provided, will use scanpy.pp.highly_variable_genes defined HVGs.\n",
      "Perform dimension reduction with HVGs\n"
     ]
    },
    {
     "name": "stderr",
     "output_type": "stream",
     "text": [
      "/mnt/atlas_local/chaozhong/home/miniconda3/envs/multiome/lib/python3.10/site-packages/scanpy/preprocessing/_simple.py:843: UserWarning: Received a view of an AnnData. Making a copy.\n",
      "  view_to_actual(adata)\n"
     ]
    },
    {
     "name": "stdout",
     "output_type": "stream",
     "text": [
      "Preprocessing done!\n",
      "---- scATAC-seq pre-processing -----\n",
      "Filter peaks expressed in less than 0.0% cells\n",
      "Do library size correction, log-transformation, and scaling...\n",
      "Preprocessing done!\n"
     ]
    }
   ],
   "source": [
    "bulk_mod1 = dp.RNA_preprocessing_in_one(anndat_mod1, HVGs=None,\n",
    "                                        sparse_cutoff=0.)\n",
    "bulk_mod2 = dp.ATAC_preprocessing_in_one(anndat_mod2,\n",
    "                                         sparse_cutoff=0.)"
   ]
  },
  {
   "cell_type": "code",
   "execution_count": 6,
   "id": "03f9835c",
   "metadata": {},
   "outputs": [
    {
     "name": "stdout",
     "output_type": "stream",
     "text": [
      "AnnData object genertated with log-transformed data as X.\n"
     ]
    }
   ],
   "source": [
    "peaks_nearby = pd.read_csv('snare_seq/SNARE_mousebrain.peaks_nearby.all.csv', index_col=0)\n",
    "anndat_multiome = dp.multiome_data(anndat_mod1, anndat_mod2, peaks_nearby)"
   ]
  },
  {
   "cell_type": "code",
   "execution_count": 7,
   "id": "717ca62f",
   "metadata": {},
   "outputs": [],
   "source": [
    "anndat_multiome.write_h5ad('snare_seq/SNARE_mousebrain.all.sc.h5ad')"
   ]
  },
  {
   "cell_type": "code",
   "execution_count": null,
   "id": "71fe3637",
   "metadata": {},
   "outputs": [],
   "source": []
  },
  {
   "cell_type": "markdown",
   "id": "3da138d1",
   "metadata": {},
   "source": [
    "### SHARE-seq data  <a name=\"share\"></a>\n",
    "#### The whole dataset paeudo-bulk object  <a name=\"sharepb\"></a>"
   ]
  },
  {
   "cell_type": "code",
   "execution_count": 2,
   "id": "88ab8cb2",
   "metadata": {},
   "outputs": [],
   "source": [
    "anndat_mod1 = ad.read_h5ad('share_seq/SHARE_mouseskin_RNA.h5ad')\n",
    "anndat_mod2 = ad.read_h5ad('share_seq/SHARE_mouseskin_ATAC.h5ad')\n",
    "\n",
    "sc.pp.normalize_total(anndat_mod1)\n",
    "sc.pp.normalize_total(anndat_mod2)"
   ]
  },
  {
   "cell_type": "code",
   "execution_count": 4,
   "id": "f4071283",
   "metadata": {},
   "outputs": [
    {
     "data": {
      "text/plain": [
       "True"
      ]
     },
     "execution_count": 4,
     "metadata": {},
     "output_type": "execute_result"
    }
   ],
   "source": [
    "np.all(anndat_mod1.obs_names == anndat_mod2.obs_names)"
   ]
  },
  {
   "cell_type": "code",
   "execution_count": 5,
   "id": "0a1a3957",
   "metadata": {},
   "outputs": [],
   "source": [
    "import multiome.data_preparation as dp\n",
    "nn_map = dp.nn_map_scanpy(anndat_mod1, K=25) #K should be exactly the same as n_neighbors in sc.pp.neighbors"
   ]
  },
  {
   "cell_type": "code",
   "execution_count": 6,
   "id": "9def2422",
   "metadata": {},
   "outputs": [],
   "source": [
    "anndat_mod1 = dp.add_group_sparsity(anndat_mod1)\n",
    "anndat_mod2 = dp.add_group_sparsity(anndat_mod2)"
   ]
  },
  {
   "cell_type": "code",
   "execution_count": 7,
   "id": "34a5594c",
   "metadata": {},
   "outputs": [
    {
     "name": "stdout",
     "output_type": "stream",
     "text": [
      "Cluster annotation provided, will generate the pseudo-bulk within each cluster defined...\n"
     ]
    },
    {
     "name": "stderr",
     "output_type": "stream",
     "text": [
      "/mnt/atlas_local/chaozhong/home/miniconda3/envs/multiome/lib/python3.10/site-packages/scipy/stats/_stats_py.py:110: RuntimeWarning: The input array could not be properly checked for nan values. nan values will be ignored.\n",
      "  warnings.warn(\"The input array could not be properly \"\n"
     ]
    },
    {
     "name": "stdout",
     "output_type": "stream",
     "text": [
      "5000 pseudo-bulk generated\n"
     ]
    },
    {
     "name": "stderr",
     "output_type": "stream",
     "text": [
      "/mnt/atlas_local/chaozhong/data/thesis/fig2/../multiome/data_preparation.py:304: FutureWarning: X.dtype being converted to np.float32 from float64. In the next version of anndata (0.9) conversion will not be automatic. Pass dtype explicitly to avoid this warning. Pass `AnnData(X, dtype=X.dtype, ...)` to get the future behavour.\n",
      "  return ad.AnnData(\n",
      "/mnt/atlas_local/chaozhong/home/miniconda3/envs/multiome/lib/python3.10/site-packages/anndata/_core/anndata.py:121: ImplicitModificationWarning: Transforming to str index.\n",
      "  warnings.warn(\"Transforming to str index.\", ImplicitModificationWarning)\n",
      "/mnt/atlas_local/chaozhong/data/thesis/fig2/../multiome/data_preparation.py:308: FutureWarning: X.dtype being converted to np.float32 from float64. In the next version of anndata (0.9) conversion will not be automatic. Pass dtype explicitly to avoid this warning. Pass `AnnData(X, dtype=X.dtype, ...)` to get the future behavour.\n",
      "  ), ad.AnnData(\n"
     ]
    },
    {
     "name": "stdout",
     "output_type": "stream",
     "text": [
      "Finished in 60.59s\n"
     ]
    }
   ],
   "source": [
    "import time\n",
    "start = time.time()\n",
    "bulk_mod1, bulk_mod2 = dp.PsedoBulk(anndat_mod1, anndat_mod2,\n",
    "                                    group_name='leiden',\n",
    "                                    nn_map=nn_map, N=5000, K=25)\n",
    "print('Finished in %.2fs'%(time.time()-start))"
   ]
  },
  {
   "cell_type": "code",
   "execution_count": 8,
   "id": "b09761e8",
   "metadata": {},
   "outputs": [
    {
     "name": "stdout",
     "output_type": "stream",
     "text": [
      "---- scRNA-seq pre-processing -----\n",
      "Filter genes expressed in less than 10.0% cells...\n",
      "Do library size correction and log-transformation...\n",
      "Highly-variable genes not provided, will use scanpy.pp.highly_variable_genes defined HVGs.\n",
      "Perform dimension reduction with HVGs\n"
     ]
    },
    {
     "name": "stderr",
     "output_type": "stream",
     "text": [
      "/mnt/atlas_local/chaozhong/home/miniconda3/envs/multiome/lib/python3.10/site-packages/scanpy/preprocessing/_simple.py:843: UserWarning: Received a view of an AnnData. Making a copy.\n",
      "  view_to_actual(adata)\n"
     ]
    },
    {
     "name": "stdout",
     "output_type": "stream",
     "text": [
      "Preprocessing done!\n",
      "---- scATAC-seq pre-processing -----\n",
      "Filter peaks expressed in less than 5.0% cells\n",
      "Do library size correction, log-transformation, and scaling...\n",
      "Preprocessing done!\n"
     ]
    }
   ],
   "source": [
    "bulk_mod1 = dp.RNA_preprocessing_in_one(bulk_mod1, HVGs=None,\n",
    "                                        sparse_cutoff=0.1)\n",
    "bulk_mod2 = dp.ATAC_preprocessing_in_one(bulk_mod2,\n",
    "                                         sparse_cutoff=0.05)"
   ]
  },
  {
   "cell_type": "code",
   "execution_count": 9,
   "id": "82762926",
   "metadata": {},
   "outputs": [
    {
     "name": "stdout",
     "output_type": "stream",
     "text": [
      "Remove nearby peaks if it lies on the gene body or promoter regions of other genes.\n",
      "Finished in 159.63s\n"
     ]
    }
   ],
   "source": [
    "# peaks nearby annotation\n",
    "import multiome.feature_pairing as feature_pairing\n",
    "start = time.time()\n",
    "genes = bulk_mod1.raw.var_names #np.intersect1d(genes, bulk_mod1.raw.var_names.to_numpy())\n",
    "peaks = bulk_mod2.var_names\n",
    "peaks_nearby = feature_pairing.peaks_within_distance(genes, peaks,\n",
    "                                                     upstream=100000,\n",
    "                                                     downstream=100000,\n",
    "                                                     id_type='Symbol',\n",
    "                                                     split_symbol=[':','-'],\n",
    "                                                     ref_gtf_fn='Mus_musculus.GRCm38.100.GeneLoc.Tab.txt')\n",
    "print('Finished in %.2fs'%(time.time()-start))"
   ]
  },
  {
   "cell_type": "code",
   "execution_count": 10,
   "id": "a901e886",
   "metadata": {},
   "outputs": [],
   "source": [
    "peaks_nearby.to_csv('share_seq/SHARE_mouseskin.peaks_nearby.all.csv')"
   ]
  },
  {
   "cell_type": "code",
   "execution_count": 11,
   "id": "0473588f",
   "metadata": {},
   "outputs": [
    {
     "name": "stdout",
     "output_type": "stream",
     "text": [
      "AnnData object genertated with log-transformed data as X.\n"
     ]
    }
   ],
   "source": [
    "peaks_nearby = pd.read_csv('share_seq/SHARE_mouseskin.peaks_nearby.all.csv',index_col=0)\n",
    "anndat_multiome = dp.multiome_data(bulk_mod1, bulk_mod2, peaks_nearby)"
   ]
  },
  {
   "cell_type": "code",
   "execution_count": 12,
   "id": "c7dbab9e",
   "metadata": {},
   "outputs": [],
   "source": [
    "anndat_multiome.write_h5ad('share_seq/SHARE_mouseskin.all.pseudo.h5ad')"
   ]
  },
  {
   "cell_type": "code",
   "execution_count": null,
   "id": "4946616a",
   "metadata": {},
   "outputs": [],
   "source": []
  },
  {
   "cell_type": "markdown",
   "id": "5bb03786",
   "metadata": {},
   "source": [
    "#### Cluster 7 pseudo-bulk object   <a name=\"share7\"></a>"
   ]
  },
  {
   "cell_type": "code",
   "execution_count": 2,
   "id": "4a35b578",
   "metadata": {},
   "outputs": [],
   "source": [
    "import multiome.data_preparation as dp\n",
    "\n",
    "anndat_mod1 = ad.read_h5ad('share_seq/SHARE_mouseskin_RNA.h5ad')\n",
    "anndat_mod2 = ad.read_h5ad('share_seq/SHARE_mouseskin_ATAC.h5ad')\n",
    "\n",
    "sc.pp.normalize_total(anndat_mod1)\n",
    "sc.pp.normalize_total(anndat_mod2)\n",
    "\n",
    "import multiome.data_preparation as dp\n",
    "nn_map = dp.nn_map_scanpy(anndat_mod1, K=25)\n",
    "\n",
    "anndat_mod1, anndat_mod2, nn_map = dp.subset(anndat_mod1, anndat_mod2,\n",
    "                                             nn_map, by='leiden',\n",
    "                                             groups = ['7'])"
   ]
  },
  {
   "cell_type": "code",
   "execution_count": 3,
   "id": "a8be01ad",
   "metadata": {},
   "outputs": [
    {
     "name": "stderr",
     "output_type": "stream",
     "text": [
      "/mnt/atlas_local/chaozhong/data/thesis/fig2/../multiome/data_preparation.py:180: ImplicitModificationWarning: Trying to modify attribute `.var` of view, initializing view as actual.\n",
      "  anndat.var['Frac.all'] = non_zero_pd['sparsity'].to_numpy()\n",
      "/mnt/atlas_local/chaozhong/data/thesis/fig2/../multiome/data_preparation.py:180: ImplicitModificationWarning: Trying to modify attribute `.var` of view, initializing view as actual.\n",
      "  anndat.var['Frac.all'] = non_zero_pd['sparsity'].to_numpy()\n"
     ]
    }
   ],
   "source": [
    "anndat_mod1 = dp.add_group_sparsity(anndat_mod1)\n",
    "anndat_mod2 = dp.add_group_sparsity(anndat_mod2)"
   ]
  },
  {
   "cell_type": "code",
   "execution_count": 4,
   "id": "42287881",
   "metadata": {},
   "outputs": [
    {
     "name": "stdout",
     "output_type": "stream",
     "text": [
      "No cluster annotation provided, will generate the pseudo-bulk by KNN...\n",
      "1417 pseudo-bulk generated\n"
     ]
    },
    {
     "name": "stderr",
     "output_type": "stream",
     "text": [
      "/mnt/atlas_local/chaozhong/data/thesis/fig2/../multiome/data_preparation.py:304: FutureWarning: X.dtype being converted to np.float32 from float64. In the next version of anndata (0.9) conversion will not be automatic. Pass dtype explicitly to avoid this warning. Pass `AnnData(X, dtype=X.dtype, ...)` to get the future behavour.\n",
      "  return ad.AnnData(\n",
      "/mnt/atlas_local/chaozhong/data/thesis/fig2/../multiome/data_preparation.py:308: FutureWarning: X.dtype being converted to np.float32 from float64. In the next version of anndata (0.9) conversion will not be automatic. Pass dtype explicitly to avoid this warning. Pass `AnnData(X, dtype=X.dtype, ...)` to get the future behavour.\n",
      "  ), ad.AnnData(\n"
     ]
    },
    {
     "name": "stdout",
     "output_type": "stream",
     "text": [
      "Finished in 11.62s\n"
     ]
    }
   ],
   "source": [
    "import time\n",
    "start = time.time()\n",
    "bulk_mod1, bulk_mod2 = dp.PsedoBulk(anndat_mod1, anndat_mod2,\n",
    "                                    #group_name='leiden',\n",
    "                                    nn_map=nn_map, N=2000, K=25)\n",
    "print('Finished in %.2fs'%(time.time()-start))"
   ]
  },
  {
   "cell_type": "code",
   "execution_count": 5,
   "id": "00719c32",
   "metadata": {},
   "outputs": [
    {
     "name": "stdout",
     "output_type": "stream",
     "text": [
      "---- scRNA-seq pre-processing -----\n",
      "Filter genes expressed in less than 10.0% cells...\n",
      "Do library size correction and log-transformation...\n",
      "Highly-variable genes not provided, will use scanpy.pp.highly_variable_genes defined HVGs.\n",
      "Perform dimension reduction with HVGs\n"
     ]
    },
    {
     "name": "stderr",
     "output_type": "stream",
     "text": [
      "/mnt/atlas_local/chaozhong/home/miniconda3/envs/multiome/lib/python3.10/site-packages/scanpy/preprocessing/_simple.py:843: UserWarning: Received a view of an AnnData. Making a copy.\n",
      "  view_to_actual(adata)\n"
     ]
    },
    {
     "name": "stdout",
     "output_type": "stream",
     "text": [
      "Preprocessing done!\n",
      "---- scATAC-seq pre-processing -----\n",
      "Filter peaks expressed in less than 5.0% cells\n",
      "Do library size correction, log-transformation, and scaling...\n",
      "Preprocessing done!\n"
     ]
    }
   ],
   "source": [
    "bulk_mod1 = dp.RNA_preprocessing_in_one(bulk_mod1, HVGs=None,\n",
    "                                        sparse_cutoff=0.1)\n",
    "bulk_mod2 = dp.ATAC_preprocessing_in_one(bulk_mod2,\n",
    "                                         sparse_cutoff=0.05)"
   ]
  },
  {
   "cell_type": "code",
   "execution_count": 6,
   "id": "a92729cb",
   "metadata": {},
   "outputs": [],
   "source": [
    "genes = bulk_mod1.raw.var_names #np.intersect1d(genes, bulk_mod1.raw.var_names.to_numpy())\n",
    "peaks = bulk_mod2.var_names\n",
    "peaks_nearby = pd.read_csv('share_seq/SHARE_mouseskin.peaks_nearby.all.csv', index_col=0)\n",
    "peaks_nearby = peaks_nearby.loc[peaks_nearby['genes'].isin(genes),:]\n",
    "peaks_nearby = peaks_nearby.loc[peaks_nearby['peaks'].isin(peaks),:]\n",
    "\n",
    "peaks_nearby.to_csv('share_seq/SHARE_mouseskin.peaks_nearby.7.csv', index=False)\n"
   ]
  },
  {
   "cell_type": "code",
   "execution_count": 7,
   "id": "f19aea00",
   "metadata": {},
   "outputs": [
    {
     "name": "stdout",
     "output_type": "stream",
     "text": [
      "AnnData object genertated with log-transformed data as X.\n"
     ]
    }
   ],
   "source": [
    "peaks_nearby = pd.read_csv('share_seq/SHARE_mouseskin.peaks_nearby.7.csv')\n",
    "anndat_multiome = dp.multiome_data(bulk_mod1, bulk_mod2, peaks_nearby)"
   ]
  },
  {
   "cell_type": "code",
   "execution_count": 8,
   "id": "837cbe56",
   "metadata": {},
   "outputs": [],
   "source": [
    "anndat_multiome.write_h5ad('share_seq/SHARE_mouseskin.7.pseudo.h5ad')"
   ]
  },
  {
   "cell_type": "code",
   "execution_count": null,
   "id": "f5b808cf",
   "metadata": {},
   "outputs": [],
   "source": []
  },
  {
   "cell_type": "markdown",
   "id": "eef28b54",
   "metadata": {},
   "source": [
    "#### The whole dataset single-cell object   <a name=\"sharesc\"></a>"
   ]
  },
  {
   "cell_type": "code",
   "execution_count": 2,
   "id": "3180d277",
   "metadata": {},
   "outputs": [],
   "source": [
    "anndat_mod1 = ad.read_h5ad('share_seq/SHARE_mouseskin_RNA.h5ad')\n",
    "anndat_mod2 = ad.read_h5ad('share_seq/SHARE_mouseskin_ATAC.h5ad')\n",
    "\n",
    "sc.pp.normalize_total(anndat_mod1)\n",
    "sc.pp.normalize_total(anndat_mod2)"
   ]
  },
  {
   "cell_type": "code",
   "execution_count": 3,
   "id": "2b8ce198",
   "metadata": {},
   "outputs": [],
   "source": [
    "import multiome.data_preparation as dp\n",
    "anndat_mod1 = dp.add_group_sparsity(anndat_mod1)\n",
    "anndat_mod2 = dp.add_group_sparsity(anndat_mod2)"
   ]
  },
  {
   "cell_type": "code",
   "execution_count": 4,
   "id": "5e2445df",
   "metadata": {},
   "outputs": [
    {
     "name": "stdout",
     "output_type": "stream",
     "text": [
      "---- scRNA-seq pre-processing -----\n",
      "Filter genes expressed in less than 0.0% cells...\n",
      "Do library size correction and log-transformation...\n",
      "WARNING: adata.X seems to be already log-transformed.\n",
      "Highly-variable genes not provided, will use scanpy.pp.highly_variable_genes defined HVGs.\n",
      "Perform dimension reduction with HVGs\n"
     ]
    },
    {
     "name": "stderr",
     "output_type": "stream",
     "text": [
      "/mnt/atlas_local/chaozhong/home/miniconda3/envs/multiome/lib/python3.10/site-packages/scanpy/preprocessing/_simple.py:843: UserWarning: Received a view of an AnnData. Making a copy.\n",
      "  view_to_actual(adata)\n"
     ]
    },
    {
     "name": "stdout",
     "output_type": "stream",
     "text": [
      "Preprocessing done!\n",
      "---- scATAC-seq pre-processing -----\n",
      "Filter peaks expressed in less than 0.0% cells\n",
      "Do library size correction, log-transformation, and scaling...\n",
      "Preprocessing done!\n"
     ]
    }
   ],
   "source": [
    "bulk_mod1 = dp.RNA_preprocessing_in_one(anndat_mod1, HVGs=None,\n",
    "                                        sparse_cutoff=0.)\n",
    "bulk_mod2 = dp.ATAC_preprocessing_in_one(anndat_mod2,\n",
    "                                         sparse_cutoff=0.)"
   ]
  },
  {
   "cell_type": "code",
   "execution_count": 7,
   "id": "53d1d799",
   "metadata": {},
   "outputs": [
    {
     "name": "stdout",
     "output_type": "stream",
     "text": [
      "AnnData object genertated with log-transformed data as X.\n"
     ]
    }
   ],
   "source": [
    "peaks_nearby = pd.read_csv('share_seq/SHARE_mouseskin.peaks_nearby.all.csv', index_col=0)\n",
    "anndat_multiome = dp.multiome_data(anndat_mod1, anndat_mod2, peaks_nearby)"
   ]
  },
  {
   "cell_type": "code",
   "execution_count": 8,
   "id": "b0a46929",
   "metadata": {},
   "outputs": [],
   "source": [
    "anndat_multiome.write_h5ad('share_seq/SHARE_mouseskin.all.sc.h5ad') # extremely big!"
   ]
  },
  {
   "cell_type": "code",
   "execution_count": null,
   "id": "51967d26",
   "metadata": {},
   "outputs": [],
   "source": []
  }
 ],
 "metadata": {
  "kernelspec": {
   "display_name": "Python [conda env:multiome]",
   "language": "python",
   "name": "conda-env-multiome-py"
  },
  "language_info": {
   "codemirror_mode": {
    "name": "ipython",
    "version": 3
   },
   "file_extension": ".py",
   "mimetype": "text/x-python",
   "name": "python",
   "nbconvert_exporter": "python",
   "pygments_lexer": "ipython3",
   "version": "3.10.4"
  }
 },
 "nbformat": 4,
 "nbformat_minor": 5
}
